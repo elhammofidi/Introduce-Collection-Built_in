{
 "cells": [
  {
   "cell_type": "markdown",
   "id": "743c346c-9214-411d-84c4-d32b5e282ec5",
   "metadata": {},
   "source": [
    "# Python Collections (Built_in)\n",
    "### There are four collection data types in the Python programming language:\n",
    "\n",
    "#### 1. **List** is a collection which is ordered and changeable. Allows duplicate members.\n",
    "#### 2. **Tuple** is a collection which is ordered and unchangeable. Allows duplicate members.\n",
    "#### 3. **Set** is a collection which is unordered, unchangeable and no duplicate members.\n",
    "#### 4. **Dictionary** is a collection which is changeable and no duplicate members."
   ]
  },
  {
   "cell_type": "markdown",
   "id": "57614396-dccd-476f-9363-ba991f7b039d",
   "metadata": {},
   "source": [
    "---"
   ]
  },
  {
   "cell_type": "markdown",
   "id": "05d779fa-6177-4a8f-947d-fd9d9b7b086f",
   "metadata": {},
   "source": [
    "#### 1. **List** [ ]:\n",
    "    Introducing\n",
    "  - Two functions\n",
    "  - Indexing and slicing and\n",
    "  - A number of methods "
   ]
  },
  {
   "cell_type": "markdown",
   "id": "13477e4e-d896-4034-8683-e6f407cd233c",
   "metadata": {},
   "source": [
    "- Two List Functions:\n",
    "  \n",
    "  - [x] Note: A list can contain different data types like strings, integers, float, boolean values ..."
   ]
  },
  {
   "cell_type": "markdown",
   "id": "eacd6591-a91a-4905-b84f-6092c634c6ae",
   "metadata": {},
   "source": [
    "```\n",
    "list1 = [\"abc\", 34, True, 4.2, [1, 2.3, False]]\n",
    "```"
   ]
  },
  {
   "cell_type": "markdown",
   "id": "bdaec015-6b2f-4317-8212-12bd38b9b1a9",
   "metadata": {},
   "source": [
    "1. **type** ( ): Data type of a list\n",
    "\n",
    "   print(type (list1)) ----> <class 'list'>"
   ]
  },
  {
   "cell_type": "markdown",
   "id": "f77b7a3b-eb9e-4469-be8a-8151d2ac96ef",
   "metadata": {},
   "source": [
    " 2. **len** ( ): How many items a list has, use the  length\n",
    "\n",
    "      print(len (list1)) ----> 5"
   ]
  },
  {
   "cell_type": "markdown",
   "id": "679b35d1-067d-47ce-8458-d504faf7b47c",
   "metadata": {},
   "source": [
    "---"
   ]
  },
  {
   "cell_type": "markdown",
   "id": "2ec32f17-62b0-45ba-a584-50ab6cd2e107",
   "metadata": {},
   "source": [
    " - **indexing** [ ] : Access list items\n",
    "  \n",
    " - [x] Note 1: The first item has index 0 and the last item has index (len - 1)\n",
    "           \n",
    "          print(list1 [2]) ----> True       "
   ]
  },
  {
   "cell_type": "markdown",
   "id": "6e67ca5d-ebf9-4879-bc0e-1eea8a738588",
   "metadata": {},
   "source": [
    "  - [x] Note 2: Negative indexing means start from the end\n",
    "\n",
    "           print(list1 [-2]) ----> 4.2"
   ]
  },
  {
   "cell_type": "markdown",
   "id": "6182e90d-509c-4aa3-ae69-9e683a06d92d",
   "metadata": {},
   "source": [
    "---"
   ]
  },
  {
   "cell_type": "markdown",
   "id": "7b12d5c1-cb48-44bc-9d16-ecd5e4803ce1",
   "metadata": {},
   "source": [
    "- **slicing** [ : ] : Access a piece of the list\n",
    "\n",
    "- [x] Note 1: start at the first item to the end of the list\n",
    "\n",
    "         print(list1 [ : ]) ---->  [\"abc\", 34, True, 4.2, [1, 2.3, False]]"
   ]
  },
  {
   "cell_type": "markdown",
   "id": "4b53a0a0-d206-4d2c-b881-2a6549e05a66",
   "metadata": {},
   "source": [
    "- [x] Note 2: start at the first item and end at index **3** (**not included**)\n",
    "\n",
    "          print(list1 [ :3]) ---->  [\"abc\", 34, True]"
   ]
  },
  {
   "cell_type": "markdown",
   "id": "7493e90e-90d9-411f-a1ca-973e9d95b3b0",
   "metadata": {},
   "source": [
    "- [x] Note 3: start at the index **2** (**included**) and end of the list\n",
    "\n",
    "          print(list1 [2: ]) ---->  [True, 4.2, [1, 2.3, False]]"
   ]
  },
  {
   "cell_type": "markdown",
   "id": "c35126a0-fbe0-4075-a646-7e98f38281ec",
   "metadata": {},
   "source": [
    "- [x] Note 4: start at the index **1** (**included**) and end at index **4** (**not included**)     \n",
    "\n",
    "         print(list1 [1:4]) ----> [34, True, 4.2]"
   ]
  },
  {
   "cell_type": "markdown",
   "id": "0f80ad4b-273b-4b88-ab47-33c6a770d8dc",
   "metadata": {},
   "source": [
    "- [x] Note 5: slicing [ : :step] --> start at the first item to the end of the list with the step\n",
    "\n",
    "         print(list1 [ : :2]) ---->  [\"abc\", True, [1, 2.3, False]]"
   ]
  },
  {
   "cell_type": "markdown",
   "id": "d91ea8de-0a87-4145-b6c0-e12f40193c43",
   "metadata": {},
   "source": [
    "---"
   ]
  },
  {
   "cell_type": "markdown",
   "id": "34b08b97-453c-45e3-a2c5-760ba8dddeee",
   "metadata": {},
   "source": [
    "- A number of methods"
   ]
  },
  {
   "cell_type": "markdown",
   "id": "46134218-1b2f-4b54-a15a-9bc135d0ecd8",
   "metadata": {},
   "source": [
    "```\n",
    "l1 = [\"abc\", 34, True]\n",
    "```"
   ]
  },
  {
   "cell_type": "markdown",
   "id": "1300ccd2-4b28-43ec-9d95-5cacdf3f5249",
   "metadata": {},
   "source": [
    "1. **append** ( ): Adds **an element** at the end of the list\n",
    "   \n",
    "       l1.append (\"Elham\")\n",
    "   \n",
    "       print(l1) ----> [\"abc\", 34, True, \"Elham\"]"
   ]
  },
  {
   "cell_type": "markdown",
   "id": "94e72865-2ca2-4172-b0ed-afd776336fee",
   "metadata": {},
   "source": [
    "2. **extend** ( ): Add the elements of a **list**  to the end of the list\n",
    " ```\n",
    " l2 = [3, 4.2]\n",
    "```\n",
    "    l1.extend (l2)\n",
    "```\n",
    " print(l1) ----> [\"abc\", 34, True, \"Elham\", 3, 4.2]\n",
    "```"
   ]
  },
  {
   "cell_type": "markdown",
   "id": "dde3265c-a6e5-45a6-ae6f-075822d69fdb",
   "metadata": {},
   "source": [
    "3. **index** ( ): Returns the index of the first element with the specified value\n",
    "```\n",
    " l1.index (\"Elham\")\n",
    "\n",
    " print(l1) ----> 3\n",
    " ```"
   ]
  },
  {
   "cell_type": "markdown",
   "id": "3fbedd09-7c6d-4e21-b043-a61031e45750",
   "metadata": {},
   "source": [
    "4. **insert** ( ): Adds an element at the specified position\n",
    "\n",
    "- [x] Note: insert (position, element)\n",
    "\n",
    "```\n",
    "l1.insert (2, 3)\n",
    "\n",
    "print(l1) ---> [\"abc\", 34, *3, True, \"Elham\", 3, 4.2]\n",
    "```"
   ]
  },
  {
   "cell_type": "markdown",
   "id": "b619f986-0669-4c21-b37c-6b76899c41c4",
   "metadata": {},
   "source": [
    "5. **pop** ( ): Removes the element at **the end** of the list\n",
    "```\n",
    "l1.pop ( )\n",
    "\n",
    "print(l1) ----> [\"abc\", 34, 3, True, \"Elham\", 3] remove: (4.2)\n",
    "```"
   ]
  },
  {
   "cell_type": "markdown",
   "id": "e8f37bff-8db4-4c6e-be4f-dfc322703077",
   "metadata": {},
   "source": [
    "6. **remove** ( ): Removes the item with the specified value\n",
    "\n",
    "```\n",
    "l1.remove (True)\n",
    "\n",
    "print(l1) ----> [\"abc\", 34, 3, \"Elham\", 3] \n",
    "```"
   ]
  },
  {
   "cell_type": "markdown",
   "id": "9ffb321d-12b1-4b8e-8bb8-2f5b9d9b8f8c",
   "metadata": {},
   "source": [
    "7. **clear** ( ): Removes **all the elements** from the list\n",
    "```\n",
    "l1.clear ( )\n",
    "\n",
    "print(l1) ----> [   ]\n",
    "```"
   ]
  },
  {
   "cell_type": "markdown",
   "id": "ed101df9-f2a6-4015-93b6-56bb8cb2aa7d",
   "metadata": {},
   "source": [
    "---\n",
    "---"
   ]
  },
  {
   "cell_type": "markdown",
   "id": "d49062ae-8b09-469d-84a7-b94cce45b4c8",
   "metadata": {},
   "source": [
    "2. **tuple** ( ):"
   ]
  },
  {
   "cell_type": "markdown",
   "id": "ec56b5a7-491d-41bf-8f81-e44287a9080b",
   "metadata": {},
   "source": [
    "   - [x] Note: A tuple can contain different data types like strings, , list, float, boolean values ..."
   ]
  },
  {
   "cell_type": "markdown",
   "id": "4e8bdd4f-b4b3-4375-a997-b08819eca356",
   "metadata": {},
   "source": [
    "        tuple1 = (\"Elham\", 34, True, 4.2, [1, 2.3, False], (4, 6))"
   ]
  },
  {
   "cell_type": "markdown",
   "id": "55d19f59-4a6b-48c0-84ab-1b63d48670a1",
   "metadata": {},
   "source": [
    "- [ ] function: **type** ( ): Data type of a tuple\n",
    "\n",
    "   print(type (tuple1)) ----> <class 'tuple'>"
   ]
  },
  {
   "cell_type": "markdown",
   "id": "af6d1fd0-ff7a-4e08-8a58-02b53e820712",
   "metadata": {},
   "source": [
    "---"
   ]
  },
  {
   "cell_type": "markdown",
   "id": "0c248f1e-e4a9-4000-8815-caeb93d37066",
   "metadata": {},
   "source": [
    "- [x] Important Note 1:\n",
    "\n",
    "       1. Tuple indexing and slicing are similar to list indexing and slicing. (Refer to the list section above.)\n",
    "      \n",
    "       2. A slicing tuple is itself a tuple."
   ]
  },
  {
   "cell_type": "markdown",
   "id": "3ca58b0f-4cdd-4a4f-b254-212ff85cb217",
   "metadata": {},
   "source": [
    "- [ ] An example of tuple slicing:\n",
    "```\n",
    "  print (tuple1 [ : : -1]) --->  ((4, 6), [1, 2.3, False], 4.2, True, 34, \"Elham\")\n",
    "```\n",
    "    - Note: -1, causes tuple values to be reversed. "
   ]
  },
  {
   "cell_type": "markdown",
   "id": "3454e220-bf58-4433-8038-c9552a64c5f5",
   "metadata": {},
   "source": [
    "---"
   ]
  },
  {
   "cell_type": "markdown",
   "id": "9a3024b0-441f-4799-876b-c9c5a501c28b",
   "metadata": {},
   "source": [
    "- [x] Important Note 2: Once a tuple is created, you **cannot change** its values.\n",
    " But, **you can convert the tuple into a list, change the list, and convert the list back into a tuple**."
   ]
  },
  {
   "cell_type": "markdown",
   "id": "b93bc706-9a58-4d62-a040-83611c33f6f3",
   "metadata": {},
   "source": [
    "- [ ] Example:\n",
    "      \n",
    "```\n",
    " tuple1 = (\"Elham\", 34, True, 4.2, [1, 2.3, False], (4, 6))\n",
    "\n",
    " l = list (tuple1)  ## [\"Elham\", 34, True, 4.2, [1, 2.3, False], (4, 6)]\n",
    "\n",
    " l.append (4)\n",
    "\n",
    " t = tuple (l)\n",
    "\n",
    " print (\"New tuple:\", t) ---> New tuple: (\"Elham\", 34, True, 4.2, [1, 2.3, False], (4, 6), *4) \n",
    "```"
   ]
  },
  {
   "cell_type": "markdown",
   "id": "f644eb2c-9089-45ee-bfc9-49514ad3825e",
   "metadata": {},
   "source": [
    "---"
   ]
  },
  {
   "cell_type": "markdown",
   "id": "849fe247-ca24-4600-9812-83e2fc641773",
   "metadata": {},
   "source": [
    "- [x] Note: To **join** two or more tuples you can use **the  +  operator**:\n",
    "```\n",
    "  tuple2 = (\"Mofidi\", 3.3)\n",
    "\n",
    "  tuple3 = (True, [1, 2])\n",
    "\n",
    "  print(\"join tuples:\", tuple2 + tuple3) --->  join tuples: (\"Mofidi\", 3.3, True, [1, 2])\n",
    "```"
   ]
  },
  {
   "cell_type": "markdown",
   "id": "8b9310ea-cf42-4cd1-ac01-7e7921b66ee4",
   "metadata": {},
   "source": [
    "---"
   ]
  },
  {
   "cell_type": "markdown",
   "id": "30eebbcd-1cd5-4e45-bec1-a1124185fc1c",
   "metadata": {},
   "source": [
    "- [x] Note: Using Asterisk *\n",
    "\n",
    "  If the number of variables is less than the number of values, you can **add an * to the variable name**\n",
    "  and \n",
    "  the values will be assigned to the variable **as a list** :"
   ]
  },
  {
   "cell_type": "markdown",
   "id": "47bf11d7-66e5-45b7-8e46-2cfe51772cfa",
   "metadata": {},
   "source": [
    "- [ ] Example:\n",
    "\n",
    "``` \n",
    "1. (x, y, *z) = (1, 2, True, \"a\", 3)\n",
    "\n",
    "    print('x:', x)    x: 1\n",
    "\n",
    "    print('y:', y)    y: 2\n",
    "\n",
    "    print('z:', z)    z: [True, \"a\", 3]\n",
    "\n",
    "2. (x, *y, z) = (1, 2, True, \"a\", 3)\n",
    "\n",
    "    print('x:', x)    x: 1\n",
    "\n",
    "    print('y:', y)    y: [2, True, \"a\"]\n",
    "\n",
    "    print('z:', z)    z:  3\n",
    "\n",
    "3. (*x, y, z) = (1, 2, True, \"a\", 3) \n",
    "\n",
    "\n",
    "    print('x:', x)    x: [1, 2, True]\n",
    "\n",
    "    print('y:', y)    y: \"a\"\n",
    "\n",
    "    print('z:', z)    z:  3\n",
    "```\n"
   ]
  },
  {
   "cell_type": "markdown",
   "id": "b3d816c2-5fd2-4573-86ba-39662f58ce5f",
   "metadata": {},
   "source": [
    "---\n",
    "---"
   ]
  },
  {
   "cell_type": "markdown",
   "id": "90e5d559-e44b-4284-bcae-66826eb1746f",
   "metadata": {},
   "source": [
    "3. **Set** { }:"
   ]
  },
  {
   "cell_type": "markdown",
   "id": "bc308791-5939-4129-aafe-8610af65c926",
   "metadata": {},
   "source": [
    "- Most of the time, set is used to store numbers in a variable and do math.\n",
    "- A set do not have duplicate members.\n",
    "- A sets are always sorted.\n",
    "- A set can contain different data types, but in this section, we use a set to store numbers."
   ]
  },
  {
   "cell_type": "markdown",
   "id": "3a7d5320-338c-4ea9-9f8f-f3ad58ff9ce4",
   "metadata": {},
   "source": [
    "       set1 = { 1, 2, 3}\n",
    "\n",
    "       set2 = {3, 5, 7}"
   ]
  },
  {
   "cell_type": "markdown",
   "id": "8799096b-43a7-4796-a5c7-711baf593f6f",
   "metadata": {},
   "source": [
    "- [x] function: type ( ): Data type of a set\n",
    "\n",
    "      print(type (set1)) ----> <class 'set'>"
   ]
  },
  {
   "cell_type": "markdown",
   "id": "ba2d4266-529e-4849-91e1-4e64bf579df7",
   "metadata": {},
   "source": [
    "---"
   ]
  },
  {
   "cell_type": "markdown",
   "id": "35986ab7-9f96-440d-bd33-6a985afeca3e",
   "metadata": {},
   "source": [
    "- A number of methods\n",
    "\n",
    "1. **add** ( ): Adds an element to the set\n",
    "\n",
    "   set1.add (6)\n",
    "\n",
    "   print(set1) --->  { 1, 2, 3, 6}\n",
    "\n",
    "2. **update** ( ): Update the set with the union of this set and others\n",
    "\n",
    "   set1.update (set2)\n",
    "\n",
    "   print(set1) --->  { 1, 2, 3, 5, 6, 7}\n",
    "\n",
    "3. **remove** ( ): Removes the **specified element**\n",
    "\n",
    "   set1.remove (6)\n",
    "\n",
    "   print(set1) --->  { 1, 2, 3, 5, 7}\n",
    "\n",
    "4. **pop** ( ):\t \tRemoves a **first element** from the set\n",
    "\n",
    "   set1.pop ( )\n",
    "\n",
    "   print(set1) --->  {2, 3, 5, 7}\n",
    "\n",
    "5. **clear** ( ): Removes **all the elements** from the set\n",
    "\n",
    "   set1.clear ( )\n",
    "\n",
    "   print(set1) --->  set( )\n"
   ]
  },
  {
   "cell_type": "markdown",
   "id": "58e969e1-cf11-4295-b4fe-380aeceeb1fc",
   "metadata": {},
   "source": [
    "- [ ] \n",
    "\n",
    "      s3 = {1, 2, 3}\n",
    "\n",
    "      s4 = {3, 5, 7}"
   ]
  },
  {
   "cell_type": "markdown",
   "id": "6d09a496-b977-4b22-afbb-6ffd75eef7ea",
   "metadata": {},
   "source": [
    "6. **union** ( ): Return a set containing the union of sets\n",
    "\n",
    "   s5 = s3.union (s4)\n",
    "\n",
    "   print(s5) ---> {1, 2, 3, 5, 7}\n",
    "\n",
    "- Note1: Using Bar | : We can use | instead of union method\n",
    "\n",
    "   print(s3 | s4) ---> {1, 2, 3, 5, 7}\n",
    "\n",
    "7. **intersection** ( ): Returns a set, that is the intersection of two other sets\n",
    "\n",
    "   s6 = s3.intersection (s4)\n",
    "\n",
    "   print(s6) ---> {3}\n",
    "\n",
    "- Note2: Using Ampersent & : Use & instead of intersection method\n",
    "\n",
    "   print(s3 & s4) ---> {3}  \n",
    "\n",
    "8. **difference** ( ): Returns a set containing the difference between two or more sets\n",
    "\n",
    "   s7 = s3.difference (s4)\n",
    "\n",
    "   print(s7) ---> {1, 2}\n",
    "\n",
    "- Note3: Using minus - : Use - instead of difference method\n",
    "\n",
    "   print (s3 - s4) ---> {1, 2}"
   ]
  },
  {
   "cell_type": "markdown",
   "id": "2dff6ece-6570-4f13-a382-bd12471cf8fb",
   "metadata": {},
   "source": [
    "---\n",
    "---"
   ]
  },
  {
   "cell_type": "markdown",
   "id": "e1eb14d5-a5c3-49f1-82ab-e877e3da6f2d",
   "metadata": {},
   "source": [
    "4. **Dictionary** { }:"
   ]
  },
  {
   "cell_type": "code",
   "execution_count": null,
   "id": "aae66e52-bde8-4469-b086-b3e982d935ce",
   "metadata": {},
   "outputs": [],
   "source": []
  }
 ],
 "metadata": {
  "kernelspec": {
   "display_name": "Python 3 (ipykernel)",
   "language": "python",
   "name": "python3"
  },
  "language_info": {
   "codemirror_mode": {
    "name": "ipython",
    "version": 3
   },
   "file_extension": ".py",
   "mimetype": "text/x-python",
   "name": "python",
   "nbconvert_exporter": "python",
   "pygments_lexer": "ipython3",
   "version": "3.11.6"
  }
 },
 "nbformat": 4,
 "nbformat_minor": 5
}
